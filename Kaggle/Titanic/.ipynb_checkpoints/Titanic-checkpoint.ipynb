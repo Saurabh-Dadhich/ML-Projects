{
 "cells": [
  {
   "cell_type": "markdown",
   "metadata": {},
   "source": [
    "# Titanic - ML from disaster:"
   ]
  },
  {
   "cell_type": "code",
   "execution_count": 1,
   "metadata": {},
   "outputs": [
    {
     "name": "stdout",
     "output_type": "stream",
     "text": [
      "WARNING:tensorflow:From D:\\Anaconda\\envs\\py37\\lib\\site-packages\\tensorflow_core\\python\\compat\\v2_compat.py:88: disable_resource_variables (from tensorflow.python.ops.variable_scope) is deprecated and will be removed in a future version.\n",
      "Instructions for updating:\n",
      "non-resource variables are not supported in the long term\n"
     ]
    }
   ],
   "source": [
    "import numpy as np\n",
    "import pandas as pd\n",
    "import re\n",
    "import matplotlib.pyplot as pp\n",
    "import tensorflow.compat.v1 as tf \n",
    "tf.disable_v2_behavior()\n",
    "tf.compat.v1.disable_eager_execution()"
   ]
  },
  {
   "cell_type": "code",
   "execution_count": 2,
   "metadata": {},
   "outputs": [
    {
     "name": "stdout",
     "output_type": "stream",
     "text": [
      "(891, 12)\n",
      "(418, 11)\n"
     ]
    }
   ],
   "source": [
    "pd_train=pd.read_csv(r'train.csv')\n",
    "pd_test=pd.read_csv(r'test.csv')\n",
    "print(pd_train.shape)\n",
    "print(pd_test.shape)"
   ]
  },
  {
   "cell_type": "code",
   "execution_count": 3,
   "metadata": {},
   "outputs": [
    {
     "name": "stdout",
     "output_type": "stream",
     "text": [
      "Index(['PassengerId', 'Survived', 'Pclass', 'Name', 'Sex', 'Age', 'SibSp',\n",
      "       'Parch', 'Ticket', 'Fare', 'Cabin', 'Embarked'],\n",
      "      dtype='object')\n",
      "PassengerId      0\n",
      "Survived         0\n",
      "Pclass           0\n",
      "Name             0\n",
      "Sex              0\n",
      "Age            177\n",
      "SibSp            0\n",
      "Parch            0\n",
      "Ticket           0\n",
      "Fare             0\n",
      "Cabin          687\n",
      "Embarked         2\n",
      "dtype: int64\n",
      "\n",
      "\n",
      "PassengerId      0\n",
      "Pclass           0\n",
      "Name             0\n",
      "Sex              0\n",
      "Age             86\n",
      "SibSp            0\n",
      "Parch            0\n",
      "Ticket           0\n",
      "Fare             1\n",
      "Cabin          327\n",
      "Embarked         0\n",
      "dtype: int64\n"
     ]
    }
   ],
   "source": [
    "print(pd_train.columns)\n",
    "print(pd_train.isnull().sum())\n",
    "print('\\n')\n",
    "print(pd_test.isnull().sum())"
   ]
  },
  {
   "cell_type": "code",
   "execution_count": 4,
   "metadata": {},
   "outputs": [
    {
     "name": "stdout",
     "output_type": "stream",
     "text": [
      "PassengerId      0\n",
      "Pclass           0\n",
      "Name             0\n",
      "Sex              0\n",
      "Age             86\n",
      "SibSp            0\n",
      "Parch            0\n",
      "Ticket           0\n",
      "Fare             0\n",
      "Cabin          327\n",
      "Embarked         0\n",
      "dtype: int64\n"
     ]
    }
   ],
   "source": [
    "pd_test['Fare'].fillna(method='bfill',inplace=True)\n",
    "print(pd_test.isnull().sum())"
   ]
  },
  {
   "cell_type": "code",
   "execution_count": 5,
   "metadata": {},
   "outputs": [
    {
     "name": "stdout",
     "output_type": "stream",
     "text": [
      "Mr          517\n",
      "Miss        182\n",
      "Mrs         125\n",
      "Master       40\n",
      "Dr            7\n",
      "Rev           6\n",
      "Col           2\n",
      "Major         2\n",
      "Mlle          2\n",
      "Sir           1\n",
      "Don           1\n",
      "Countess      1\n",
      "Mme           1\n",
      "Ms            1\n",
      "Lady          1\n",
      "Capt          1\n",
      "Jonkheer      1\n",
      "Name: title, dtype: int64\n",
      "Mr        240\n",
      "Miss       78\n",
      "Mrs        72\n",
      "Master     21\n",
      "Rev         2\n",
      "Col         2\n",
      "Dona        1\n",
      "Dr          1\n",
      "Ms          1\n",
      "Name: title, dtype: int64\n",
      "1    517\n",
      "2    182\n",
      "3    125\n",
      "4     40\n",
      "5     27\n",
      "Name: title, dtype: int64\n",
      "1    240\n",
      "2     78\n",
      "3     72\n",
      "4     21\n",
      "5      7\n",
      "Name: title, dtype: int64\n"
     ]
    }
   ],
   "source": [
    "pd_train['title']=pd_train.Name.str.extract('([A-Za-z]+)\\.',expand =False) \n",
    "pd_test['title']=pd_test.Name.str.extract('([A-Za-z]+)\\.',expand =False)\n",
    "print(pd_train.title.value_counts())   \n",
    "print(pd_test.title.value_counts())\n",
    "pd_train.replace(['Mr','Miss','Mrs','Master'],[1,2,3,4],inplace=True)\n",
    "pd_test.replace(['Mr','Miss','Mrs','Master'],[1,2,3,4],inplace=True)\n",
    "pd_train.replace(['Rev','Col','Major','Mlle','Mme','Lady','Jonkheer','Sir','Ms','Capt','Countess','Don','Dr'],5,inplace=True)\n",
    "pd_test.replace(['Rev','Col','Major','Mlle','Mme','Lady','Jonkheer','Sir','Ms','Capt','Countess','Don','Dona','Dr'],5,inplace=True)\n",
    "print(pd_train.title.value_counts())  \n",
    "print(pd_test.title.value_counts())"
   ]
  },
  {
   "cell_type": "code",
   "execution_count": 6,
   "metadata": {},
   "outputs": [
    {
     "name": "stdout",
     "output_type": "stream",
     "text": [
      "Index(['Survived', 'Pclass', 'Sex', 'Age', 'SibSp', 'Parch', 'Fare', 'Cabin',\n",
      "       'Embarked', 'title'],\n",
      "      dtype='object')\n"
     ]
    }
   ],
   "source": [
    "pd_train.drop(['PassengerId','Name','Ticket'],axis=1,inplace=True)\n",
    "pd_test.drop(['PassengerId','Name','Ticket'],axis=1,inplace=True)\n",
    "print(pd_train.columns) "
   ]
  },
  {
   "cell_type": "code",
   "execution_count": 7,
   "metadata": {},
   "outputs": [],
   "source": [
    "pd_train['Cabin']=pd_train['Cabin'].str[:1]\n",
    "pd_test['Cabin']=pd_test['Cabin'].str[:1]"
   ]
  },
  {
   "cell_type": "code",
   "execution_count": 8,
   "metadata": {},
   "outputs": [
    {
     "name": "stdout",
     "output_type": "stream",
     "text": [
      "C    59\n",
      "B    47\n",
      "D    33\n",
      "E    32\n",
      "A    15\n",
      "F    13\n",
      "G     4\n",
      "T     1\n",
      "Name: Cabin, dtype: int64\n",
      "C    35\n",
      "B    18\n",
      "D    13\n",
      "E     9\n",
      "F     8\n",
      "A     7\n",
      "G     1\n",
      "Name: Cabin, dtype: int64\n"
     ]
    }
   ],
   "source": [
    "print(pd_train['Cabin'].value_counts())\n",
    "print(pd_test['Cabin'].value_counts())"
   ]
  },
  {
   "cell_type": "code",
   "execution_count": 9,
   "metadata": {},
   "outputs": [],
   "source": [
    "pd_train['Cabin'].replace(['C','B','D','E','A','F','G','T'],[0,0.2,0.4,0.6,0.8,1.0,1.2,1.4],inplace=True)\n",
    "pd_test['Cabin'].replace(['C','B','D','E','A','F','G'],[0,0.2,0.4,0.6,0.8,1.0,1.2],inplace=True)"
   ]
  },
  {
   "cell_type": "code",
   "execution_count": 10,
   "metadata": {},
   "outputs": [],
   "source": [
    "pd_train[\"Cabin\"] = pd_train.groupby(\"Pclass\")[\"Cabin\"].transform(lambda x:x.fillna(x.median()))\n",
    "pd_test[\"Cabin\"] = pd_test.groupby(\"Pclass\")[\"Cabin\"].transform(lambda x:x.fillna(x.median()))"
   ]
  },
  {
   "cell_type": "code",
   "execution_count": 11,
   "metadata": {},
   "outputs": [
    {
     "name": "stdout",
     "output_type": "stream",
     "text": [
      "S    644\n",
      "C    168\n",
      "Q     77\n",
      "Name: Embarked, dtype: int64\n",
      "S    646\n",
      "C    168\n",
      "Q     77\n",
      "Name: Embarked, dtype: int64\n"
     ]
    }
   ],
   "source": [
    "print(pd_train['Embarked'].value_counts())\n",
    "pd_train[\"Embarked\"].replace(np.nan,'S',inplace=True)  \n",
    "print(pd_train['Embarked'].value_counts()) "
   ]
  },
  {
   "cell_type": "code",
   "execution_count": 12,
   "metadata": {},
   "outputs": [
    {
     "name": "stdout",
     "output_type": "stream",
     "text": [
      "(314, 10)\n",
      "Survived     0\n",
      "Pclass       0\n",
      "Sex          0\n",
      "Age         53\n",
      "SibSp        0\n",
      "Parch        0\n",
      "Fare         0\n",
      "Cabin        0\n",
      "Embarked     0\n",
      "title        0\n",
      "dtype: int64\n",
      "27.92\n"
     ]
    },
    {
     "name": "stderr",
     "output_type": "stream",
     "text": [
      "D:\\Anaconda\\envs\\py37\\lib\\site-packages\\pandas\\core\\frame.py:4465: SettingWithCopyWarning: \n",
      "A value is trying to be set on a copy of a slice from a DataFrame\n",
      "\n",
      "See the caveats in the documentation: https://pandas.pydata.org/pandas-docs/stable/user_guide/indexing.html#returning-a-view-versus-a-copy\n",
      "  downcast=downcast,\n"
     ]
    }
   ],
   "source": [
    "female_age=pd_train[pd_train[\"Sex\"]=='female']\n",
    "print(female_age.shape)\n",
    "f_age_mean=female_age['Age'].mean(skipna=True)     \n",
    "print(female_age.isnull().sum()) \n",
    "f_age_mean=round(f_age_mean,2)  \n",
    "print(f_age_mean)    \n",
    "female_age.fillna(f_age_mean,inplace=True)  "
   ]
  },
  {
   "cell_type": "code",
   "execution_count": 13,
   "metadata": {},
   "outputs": [
    {
     "name": "stdout",
     "output_type": "stream",
     "text": [
      "(577, 10)\n",
      "30.73\n",
      "Survived    0\n",
      "Pclass      0\n",
      "Sex         0\n",
      "Age         0\n",
      "SibSp       0\n",
      "Parch       0\n",
      "Fare        0\n",
      "Cabin       0\n",
      "Embarked    0\n",
      "title       0\n",
      "dtype: int64\n"
     ]
    },
    {
     "name": "stderr",
     "output_type": "stream",
     "text": [
      "D:\\Anaconda\\envs\\py37\\lib\\site-packages\\pandas\\core\\series.py:4485: SettingWithCopyWarning: \n",
      "A value is trying to be set on a copy of a slice from a DataFrame\n",
      "\n",
      "See the caveats in the documentation: https://pandas.pydata.org/pandas-docs/stable/user_guide/indexing.html#returning-a-view-versus-a-copy\n",
      "  method=method,\n"
     ]
    }
   ],
   "source": [
    "male_age=pd_train[pd_train[\"Sex\"]=='male'] \n",
    "print(male_age.shape)\n",
    "m_age_mean=male_age['Age'].mean(skipna=True) \n",
    "m_age_mean=round(m_age_mean,2)\n",
    "print(m_age_mean)  \n",
    "male_age['Age'].replace(np.nan,m_age_mean,inplace=True) \n",
    "print(male_age.isnull().sum()) \n",
    "#male_age.fillna(m_age_mean,inplace=True)"
   ]
  },
  {
   "cell_type": "code",
   "execution_count": 14,
   "metadata": {},
   "outputs": [
    {
     "name": "stdout",
     "output_type": "stream",
     "text": [
      "     Survived  Pclass     Sex    Age  SibSp  Parch     Fare  Cabin Embarked  \\\n",
      "0           0       3    male  22.00      1      0   7.2500    1.0        S   \n",
      "1           1       1  female  38.00      1      0  71.2833    0.0        C   \n",
      "2           1       3  female  26.00      0      0   7.9250    1.0        S   \n",
      "3           1       1  female  35.00      1      0  53.1000    0.0        S   \n",
      "4           0       3    male  35.00      0      0   8.0500    1.0        S   \n",
      "..        ...     ...     ...    ...    ...    ...      ...    ...      ...   \n",
      "886         0       2    male  27.00      0      0  13.0000    0.8        S   \n",
      "887         1       1  female  19.00      0      0  30.0000    0.2        S   \n",
      "888         0       3  female  27.92      1      2  23.4500    1.0        S   \n",
      "889         1       1    male  26.00      0      0  30.0000    0.0        C   \n",
      "890         0       3    male  32.00      0      0   7.7500    1.0        Q   \n",
      "\n",
      "     title  \n",
      "0        1  \n",
      "1        3  \n",
      "2        2  \n",
      "3        3  \n",
      "4        1  \n",
      "..     ...  \n",
      "886      5  \n",
      "887      2  \n",
      "888      2  \n",
      "889      1  \n",
      "890      1  \n",
      "\n",
      "[891 rows x 10 columns]\n"
     ]
    }
   ],
   "source": [
    "pd_train=pd.concat([male_age,female_age],ignore_index=False)\n",
    "pd_train.sort_index(axis=0,inplace=True)\n",
    "print(pd_train) "
   ]
  },
  {
   "cell_type": "code",
   "execution_count": 15,
   "metadata": {},
   "outputs": [
    {
     "name": "stdout",
     "output_type": "stream",
     "text": [
      "          Pclass        Age     SibSp     Parch       Fare     Cabin     title\n",
      "Sex                                                                           \n",
      "female  2.144737  30.272362  0.565789  0.598684  49.747699  0.742105  2.513158\n",
      "male    2.334586  30.272732  0.379699  0.274436  27.470191  0.833083  1.312030\n"
     ]
    }
   ],
   "source": [
    "pd_test['Age']=pd_test.groupby('Sex')['Age'].transform(lambda x:x.fillna(x.mean(skipna=True)))\n",
    "print(pd_test.groupby('Sex').mean())  "
   ]
  },
  {
   "cell_type": "code",
   "execution_count": 16,
   "metadata": {},
   "outputs": [
    {
     "name": "stdout",
     "output_type": "stream",
     "text": [
      "     Survived    Age  SibSp  Parch     Fare  Cabin  title  Pclass_1  Pclass_2  \\\n",
      "0           0  22.00      1      0   7.2500    1.0      1         0         0   \n",
      "1           1  38.00      1      0  71.2833    0.0      3         1         0   \n",
      "2           1  26.00      0      0   7.9250    1.0      2         0         0   \n",
      "3           1  35.00      1      0  53.1000    0.0      3         1         0   \n",
      "4           0  35.00      0      0   8.0500    1.0      1         0         0   \n",
      "..        ...    ...    ...    ...      ...    ...    ...       ...       ...   \n",
      "886         0  27.00      0      0  13.0000    0.8      5         0         1   \n",
      "887         1  19.00      0      0  30.0000    0.2      2         1         0   \n",
      "888         0  27.92      1      2  23.4500    1.0      2         0         0   \n",
      "889         1  26.00      0      0  30.0000    0.0      1         1         0   \n",
      "890         0  32.00      0      0   7.7500    1.0      1         0         0   \n",
      "\n",
      "     Pclass_3  Sex_female  Sex_male  Embarked_C  Embarked_Q  Embarked_S  \n",
      "0           1           0         1           0           0           1  \n",
      "1           0           1         0           1           0           0  \n",
      "2           1           1         0           0           0           1  \n",
      "3           0           1         0           0           0           1  \n",
      "4           1           0         1           0           0           1  \n",
      "..        ...         ...       ...         ...         ...         ...  \n",
      "886         0           0         1           0           0           1  \n",
      "887         0           1         0           0           0           1  \n",
      "888         1           1         0           0           0           1  \n",
      "889         0           0         1           1           0           0  \n",
      "890         1           0         1           0           1           0  \n",
      "\n",
      "[891 rows x 15 columns]\n"
     ]
    }
   ],
   "source": [
    "#female 0     male 1\n",
    "#pd_train['Sex'].replace(['female','male'],[0,1],inplace=True)\n",
    "\n",
    "# C:1  S:2  Q:3 \n",
    "#pd_train['Embarked'].replace(['C','S','Q'],[1,2,3],inplace=True)\n",
    "\n",
    "\n",
    "pd_train=pd.get_dummies(pd_train,columns=['Pclass','Sex','Embarked'])\n",
    "pd_test=pd.get_dummies(pd_test,columns=['Pclass','Sex','Embarked'])\n",
    "print(pd_train)\n"
   ]
  },
  {
   "cell_type": "code",
   "execution_count": 17,
   "metadata": {},
   "outputs": [
    {
     "name": "stdout",
     "output_type": "stream",
     "text": [
      "Survived      0\n",
      "Age           0\n",
      "SibSp         0\n",
      "Parch         0\n",
      "Fare          0\n",
      "Cabin         0\n",
      "title         0\n",
      "Pclass_1      0\n",
      "Pclass_2      0\n",
      "Pclass_3      0\n",
      "Sex_female    0\n",
      "Sex_male      0\n",
      "Embarked_C    0\n",
      "Embarked_Q    0\n",
      "Embarked_S    0\n",
      "dtype: int64\n",
      "\n",
      "\n",
      "Age           0\n",
      "SibSp         0\n",
      "Parch         0\n",
      "Fare          0\n",
      "Cabin         0\n",
      "title         0\n",
      "Pclass_1      0\n",
      "Pclass_2      0\n",
      "Pclass_3      0\n",
      "Sex_female    0\n",
      "Sex_male      0\n",
      "Embarked_C    0\n",
      "Embarked_Q    0\n",
      "Embarked_S    0\n",
      "dtype: int64\n"
     ]
    }
   ],
   "source": [
    "print(pd_train.isnull().sum())\n",
    "print('\\n')\n",
    "print(pd_test.isnull().sum()) "
   ]
  },
  {
   "cell_type": "code",
   "execution_count": 18,
   "metadata": {},
   "outputs": [
    {
     "name": "stdout",
     "output_type": "stream",
     "text": [
      "Index(['Age', 'SibSp', 'Parch', 'Fare', 'Cabin', 'title', 'Pclass_1',\n",
      "       'Pclass_2', 'Pclass_3', 'Sex_female', 'Sex_male', 'Embarked_C',\n",
      "       'Embarked_Q', 'Embarked_S'],\n",
      "      dtype='object')\n",
      "0      0\n",
      "1      1\n",
      "2      1\n",
      "3      1\n",
      "4      0\n",
      "      ..\n",
      "886    0\n",
      "887    1\n",
      "888    0\n",
      "889    1\n",
      "890    0\n",
      "Name: Survived, Length: 891, dtype: int64\n"
     ]
    }
   ],
   "source": [
    "pd_train_y=pd_train['Survived'].copy()\n",
    "pd_train.drop('Survived',axis=1,inplace=True)  \n",
    "print(pd_train.columns) \n",
    "print(pd_train_y)"
   ]
  },
  {
   "cell_type": "code",
   "execution_count": 19,
   "metadata": {},
   "outputs": [],
   "source": [
    "train_x=pd_train.to_numpy()\n",
    "test_x=pd_test.to_numpy()\n",
    "train_y=pd_train_y.to_numpy()\n",
    "train_x=train_x.T\n",
    "test_x=test_x.T \n",
    "train_y=train_y.reshape((1,-1)).astype('float32')"
   ]
  },
  {
   "cell_type": "code",
   "execution_count": 20,
   "metadata": {},
   "outputs": [
    {
     "name": "stdout",
     "output_type": "stream",
     "text": [
      "Index(['Age', 'SibSp', 'Parch', 'Fare', 'Cabin', 'title', 'Pclass_1',\n",
      "       'Pclass_2', 'Pclass_3', 'Sex_female', 'Sex_male', 'Embarked_C',\n",
      "       'Embarked_Q', 'Embarked_S'],\n",
      "      dtype='object')\n",
      "Index(['Age', 'SibSp', 'Parch', 'Fare', 'Cabin', 'title', 'Pclass_1',\n",
      "       'Pclass_2', 'Pclass_3', 'Sex_female', 'Sex_male', 'Embarked_C',\n",
      "       'Embarked_Q', 'Embarked_S'],\n",
      "      dtype='object')\n"
     ]
    }
   ],
   "source": [
    "print(pd_train.columns)\n",
    "print(pd_test.columns)"
   ]
  },
  {
   "cell_type": "code",
   "execution_count": 21,
   "metadata": {},
   "outputs": [
    {
     "name": "stdout",
     "output_type": "stream",
     "text": [
      "(14, 891)\n",
      "(1, 891)\n",
      "(14, 418)\n"
     ]
    }
   ],
   "source": [
    "print(train_x.shape)\n",
    "print(train_y.shape)\n",
    "print(test_x.shape)"
   ]
  },
  {
   "cell_type": "markdown",
   "metadata": {},
   "source": [
    "# Using logistic regression:"
   ]
  },
  {
   "cell_type": "code",
   "execution_count": 70,
   "metadata": {},
   "outputs": [],
   "source": [
    "def tf_model(train_x,train_y,test_x):\n",
    "    test_x=np.transpose(test_x)\n",
    "    train_x=np.transpose(train_x)\n",
    "    train_y=np.transpose(train_y)\n",
    "    tf_X = tf.placeholder(tf.float32,[None,14],name=\"tf_X\")\n",
    "    tf_Y = tf.placeholder(tf.float32,[None,1],name=\"tf_Y\")\n",
    "    tf_W = tf.Variable(tf.zeros([14,1],tf.float32))\n",
    "    tf_B = tf.Variable(tf.zeros([1,1],tf.float32))\n",
    "    tf_Z = tf.add(tf.matmul(tf_X,tf_W), tf_B)\n",
    "    \n",
    "    prediction = tf.round(tf.sigmoid(tf_Z))\n",
    "    correct = tf.cast(tf.equal(prediction, tf_Y), dtype=tf.float32)\n",
    "    accuracy = tf.reduce_mean(correct)  \n",
    "    \n",
    "    tf_cost = tf.reduce_mean(tf.nn.sigmoid_cross_entropy_with_logits(logits = tf_Z, labels = train_y))\n",
    "    tf_optimizer = tf.train.GradientDescentOptimizer(learning_rate = 0.0047).minimize(tf_cost)\n",
    "    init = tf.global_variables_initializer() \n",
    "    \n",
    "    with tf.Session() as sess:\n",
    "        sess.run(init) \n",
    "        tf_costs=[] \n",
    "        for i in range(110000):  \n",
    "            _ = sess.run(tf_optimizer, feed_dict = {tf_X: train_x, tf_Y : train_y}) \n",
    "            c = sess.run(tf_cost, feed_dict = {tf_X: train_x, tf_Y : train_y})\n",
    "            tf_costs.append(c)\n",
    "        pp.plot(tf_costs) \n",
    "        pp.show()  \n",
    "        \n",
    "        acc=sess.run(accuracy,feed_dict={tf_X: train_x, tf_Y : train_y})  \n",
    "        print(\"Accuracy on training set: \",acc) \n",
    "        tf_test_y=sess.run(prediction,feed_dict={tf_X: test_x})  \n",
    "        return sess.run(tf_W),sess.run(tf_B),tf_test_y"
   ]
  },
  {
   "cell_type": "code",
   "execution_count": 71,
   "metadata": {},
   "outputs": [
    {
     "data": {
      "image/png": "[encoded data removed]",
      "text/plain": [
       "<Figure size 432x288 with 1 Axes>"
      ]
     },
     "metadata": {
      "needs_background": "light"
     },
     "output_type": "display_data"
    },
    {
     "name": "stdout",
     "output_type": "stream",
     "text": [
      "Accuracy on training set:  0.82042646\n"
     ]
    }
   ],
   "source": [
    "tf_W,tf_B,tf_test_y=tf_model(train_x,train_y,test_x)"
   ]
  },
  {
   "cell_type": "code",
   "execution_count": 72,
   "metadata": {},
   "outputs": [],
   "source": [
    "tf_test_Y=pd.DataFrame({'PassengerId':np.arange(892,1310),'Survived':tf_test_y.reshape(-1)}) \n",
    "tf_test_Y.to_csv('tf_test_Y.csv',index=False)  "
   ]
  },
  {
   "cell_type": "markdown",
   "metadata": {},
   "source": [
    "# Using neural networks: "
   ]
  },
  {
   "cell_type": "code",
   "execution_count": 62,
   "metadata": {},
   "outputs": [],
   "source": [
    "def initialise():\n",
    "    m=891 \n",
    "    model=[14,15,15,16,1] \n",
    "    parameters={}\n",
    "    adam_parameters={}  \n",
    "    \n",
    "    for i in range(len(model)-1):\n",
    "        np.random.seed(2) \n",
    "        parameters['w'+str(i+1)]=np.random.randn(model[i+1],model[i])*np.sqrt(1/model[i])  \n",
    "        parameters['b'+str(i+1)]=np.zeros((model[i+1],1))\n",
    "        adam_parameters['vdw'+str(i+1)]=np.zeros((model[i+1],model[i]))\n",
    "        adam_parameters['vdb'+str(i+1)]=np.zeros((model[i+1],1))\n",
    "        adam_parameters['sdw'+str(i+1)]=np.zeros((model[i+1],model[i]))\n",
    "        adam_parameters['sdb'+str(i+1)]=np.zeros((model[i+1],1))\n",
    "        \n",
    "    return parameters,adam_parameters,model "
   ]
  },
  {
   "cell_type": "code",
   "execution_count": 23,
   "metadata": {},
   "outputs": [],
   "source": [
    "def activation(z,cast):\n",
    "    if cast=='sigmoid':\n",
    "        return 1/(1+np.exp(-z)) \n",
    "    elif cast=='tanh':\n",
    "        return (np.exp(z)-np.exp(-z))/(np.exp(z)+np.exp(-z))\n",
    "    else:\n",
    "        return z*(z>0) "
   ]
  },
  {
   "cell_type": "code",
   "execution_count": 24,
   "metadata": {},
   "outputs": [],
   "source": [
    "def forward_prop(train_x,parameters):\n",
    "    cache={}\n",
    "    cache['A0']=train_x\n",
    "    L=len(parameters)//2\n",
    "    A_prev=train_x\n",
    "    for i in range(1,L):\n",
    "        cache['Z'+str(i)]=np.dot(parameters['w'+str(i)],A_prev)+parameters['b'+str(i)]\n",
    "        cache['A'+str(i)]=activation(cache['Z'+str(i)],'tanh')\n",
    "        A_prev=cache['A'+str(i)] \n",
    "    cache['Z'+str(L)]=np.dot(parameters['w'+str(L)],A_prev)+parameters['b'+str(L)]\n",
    "    cache['A'+str(L)]=activation(cache['Z'+str(L)],'sigmoid')\n",
    "    return cache"
   ]
  },
  {
   "cell_type": "code",
   "execution_count": 25,
   "metadata": {},
   "outputs": [],
   "source": [
    "def compute_cost(A_y,Y): \n",
    "    m=A_y.shape[1]\n",
    "    cost = -1*np.sum(np.multiply(Y,np.log(A_y))+np.multiply(1-Y,np.log(1-A_y)))/m\n",
    "    cost = np.squeeze(cost)\n",
    "    return cost"
   ]
  },
  {
   "cell_type": "code",
   "execution_count": 26,
   "metadata": {},
   "outputs": [],
   "source": [
    "def back_prop(cache,Y,parameters,layers):\n",
    "    grads={} \n",
    "    m=Y.shape[1]  \n",
    "    grads['dz'+str(layers)]=cache['A'+str(layers)]-Y \n",
    "    for i in range(layers,0,-1):\n",
    "        grads['dw'+str(i)]=np.dot(grads['dz'+str(i)],cache['A'+str(i-1)].T)/m \n",
    "        grads['db'+str(i)]=np.sum(grads['dz'+str(i)],axis=1,keepdims=True)/m \n",
    "        if(i!=1):\n",
    "            grads['dA'+str(i-1)]=np.dot(parameters['w'+str(i)].T,grads['dz'+str(i)]) \n",
    "            grads['dz'+str(i-1)]=np.multiply(grads['dA'+str(i-1)],1-np.multiply(cache['A'+str(i-1)],cache['A'+str(i-1)])) \n",
    "    return grads "
   ]
  },
  {
   "cell_type": "code",
   "execution_count": 27,
   "metadata": {},
   "outputs": [],
   "source": [
    "def adam_optimization(grads,adam_parameters,t,beta1=0.7,beta2=0.999):\n",
    "    layers=len(adam_parameters)//4 \n",
    "    for i in range(layers):  \n",
    "        adam_parameters['vdw'+str(i+1)]=beta1*adam_parameters['vdw'+str(i+1)]+(1-beta1)*grads['dw'+str(i+1)]\n",
    "        adam_parameters['vdb'+str(i+1)]=beta1*adam_parameters['vdb'+str(i+1)]+(1-beta1)*grads['db'+str(i+1)]\n",
    "        adam_parameters['sdw'+str(i+1)]=beta2*adam_parameters['sdw'+str(i+1)]+(1-beta2)*(grads['dw'+str(i+1)]**2)\n",
    "        adam_parameters['sdb'+str(i+1)]=beta2*adam_parameters['sdb'+str(i+1)]+(1-beta2)*(grads['db'+str(i+1)]**2)\n",
    "        if(t>0):\n",
    "            adam_parameters['vdw'+str(i+1)]=adam_parameters['vdw'+str(i+1)]/(1-beta1**t)  \n",
    "            adam_parameters['vdb'+str(i+1)]=adam_parameters['vdb'+str(i+1)]/(1-beta1**t)\n",
    "            adam_parameters['sdw'+str(i+1)]=adam_parameters['sdw'+str(i+1)]/(1-beta2**t)\n",
    "            adam_parameters['sdb'+str(i+1)]=adam_parameters['sdb'+str(i+1)]/(1-beta2**t)\n",
    "    return adam_parameters "
   ]
  },
  {
   "cell_type": "code",
   "execution_count": 28,
   "metadata": {},
   "outputs": [],
   "source": [
    "def update_parameter(parameters,learning_rate,grads,layers,epsi=1e-8): \n",
    "    for i in range(1,layers+1): \n",
    "        parameters['w'+str(i)]=parameters['w'+str(i)]-learning_rate*grads['dw'+str(i)]\n",
    "        parameters['b'+str(i)]=parameters['b'+str(i)]-learning_rate*grads['db'+str(i)]\n",
    "    return parameters"
   ]
  },
  {
   "cell_type": "code",
   "execution_count": 63,
   "metadata": {},
   "outputs": [],
   "source": [
    "def titanic_model():\n",
    "    m=train_x.shape[1]\n",
    "    parameters,adam_parameters,model=initialise() \n",
    "    layers=len(model)-1  \n",
    "    costs=[]\n",
    "    pre_cost=99999999999\n",
    "    for i in range(160000): \n",
    "        cache=forward_prop(train_x,parameters)\n",
    "        cost=compute_cost(cache['A'+str(layers)],train_y) \n",
    "        grads=back_prop(cache,train_y,parameters,layers)  \n",
    "        \n",
    "        #adam_parameters=adam_optimization(grads,adam_parameters,i,beta1=0.9,beta2=0.999) \n",
    "        \n",
    "        parameters=update_parameter(parameters,0.004771,grads,layers) \n",
    "        #print(cost) \n",
    "      #  print(parameters['w1'])\n",
    "        if(i%400==0): \n",
    "            costs.append(cost)\n",
    "    return costs,parameters,cache['A'+str(layers)] "
   ]
  },
  {
   "cell_type": "code",
   "execution_count": 64,
   "metadata": {},
   "outputs": [
    {
     "data": {
      "image/png": "[encoded data removed]",
      "text/plain": [
       "<Figure size 432x288 with 1 Axes>"
      ]
     },
     "metadata": {
      "needs_background": "light"
     },
     "output_type": "display_data"
    }
   ],
   "source": [
    "costs,parameters,Y_=titanic_model()  \n",
    "pp.plot(costs) \n",
    "pp.show()  "
   ]
  },
  {
   "cell_type": "code",
   "execution_count": 65,
   "metadata": {},
   "outputs": [
    {
     "name": "stdout",
     "output_type": "stream",
     "text": [
      "0.8799102132435466\n"
     ]
    }
   ],
   "source": [
    "Y_=Y_>=0.5\n",
    "comp=Y_==train_y\n",
    "print(np.sum(comp)/train_y.shape[1])"
   ]
  },
  {
   "cell_type": "code",
   "execution_count": 66,
   "metadata": {},
   "outputs": [],
   "source": [
    "test_y=forward_prop(test_x,parameters) \n",
    "test_y=test_y['A4']>=0.5\n",
    "test_y=test_y.astype(int).reshape(-1)\n",
    "pass_id=np.arange(892,1310)"
   ]
  },
  {
   "cell_type": "code",
   "execution_count": 67,
   "metadata": {},
   "outputs": [],
   "source": [
    "test_Y=pd.DataFrame({'PassengerId':pass_id,'Survived':test_y}) \n",
    "test_Y.to_csv('test_Y.csv',index=False) "
   ]
  },
  {
   "cell_type": "code",
   "execution_count": null,
   "metadata": {},
   "outputs": [],
   "source": []
  }
 ],
 "metadata": {
  "kernelspec": {
   "display_name": "Python 3",
   "language": "python",
   "name": "python3"
  },
  "language_info": {
   "codemirror_mode": {
    "name": "ipython",
    "version": 3
   },
   "file_extension": ".py",
   "mimetype": "text/x-python",
   "name": "python",
   "nbconvert_exporter": "python",
   "pygments_lexer": "ipython3",
   "version": "3.7.9"
  }
 },
 "nbformat": 4,
 "nbformat_minor": 4
}
