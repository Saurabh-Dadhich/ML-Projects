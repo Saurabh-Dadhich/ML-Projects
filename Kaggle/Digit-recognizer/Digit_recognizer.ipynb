{
 "cells": [
  {
   "cell_type": "code",
   "execution_count": 1,
   "id": "former-fifteen",
   "metadata": {},
   "outputs": [],
   "source": [
    "import numpy as np\n",
    "import pandas as pd\n",
    "import tensorflow as tf\n",
    "from tensorflow import keras\n",
    "import matplotlib.pyplot as plt"
   ]
  },
  {
   "cell_type": "code",
   "execution_count": 2,
   "id": "white-tolerance",
   "metadata": {},
   "outputs": [],
   "source": [
    "train=pd.read_csv(\"train.csv\")\n",
    "test=pd.read_csv(\"test.csv\")"
   ]
  },
  {
   "cell_type": "code",
   "execution_count": 3,
   "id": "meaningful-envelope",
   "metadata": {},
   "outputs": [
    {
     "name": "stdout",
     "output_type": "stream",
     "text": [
      "(42000, 785)\n",
      "(28000, 784)\n"
     ]
    }
   ],
   "source": [
    "print(train.shape)\n",
    "print(test.shape)"
   ]
  },
  {
   "cell_type": "code",
   "execution_count": 4,
   "id": "catholic-soviet",
   "metadata": {},
   "outputs": [
    {
     "name": "stdout",
     "output_type": "stream",
     "text": [
      "(42000, 784)\n",
      "(42000,)\n"
     ]
    }
   ],
   "source": [
    "train_Y=train['label']\n",
    "train.drop('label',axis=1,inplace=True) \n",
    "print(train.shape)\n",
    "print(train_Y.shape) "
   ]
  },
  {
   "cell_type": "code",
   "execution_count": 5,
   "id": "corporate-bacon",
   "metadata": {},
   "outputs": [
    {
     "name": "stdout",
     "output_type": "stream",
     "text": [
      "count       784\n",
      "unique        1\n",
      "top       False\n",
      "freq        784\n",
      "dtype: object\n",
      "\n",
      "\n",
      "False\n",
      "\n",
      "\n",
      "count       784\n",
      "unique        1\n",
      "top       False\n",
      "freq        784\n",
      "dtype: object\n"
     ]
    }
   ],
   "source": [
    "print(train.isnull().any().describe())\n",
    "print('\\n')\n",
    "print(train_Y.isnull().any())\n",
    "print('\\n')\n",
    "print(test.isnull().any().describe()) "
   ]
  },
  {
   "cell_type": "code",
   "execution_count": 6,
   "id": "impressive-affairs",
   "metadata": {},
   "outputs": [
    {
     "data": {
      "image/png": "[encoded data removed]",
      "text/plain": [
       "<Figure size 432x288 with 1 Axes>"
      ]
     },
     "metadata": {
      "needs_background": "light"
     },
     "output_type": "display_data"
    }
   ],
   "source": [
    "train_Y.value_counts().plot.bar()\n",
    "plt.show() "
   ]
  },
  {
   "cell_type": "code",
   "execution_count": 7,
   "id": "arranged-throw",
   "metadata": {},
   "outputs": [],
   "source": [
    "train=train/255\n",
    "test=test/255"
   ]
  },
  {
   "cell_type": "code",
   "execution_count": 8,
   "id": "deluxe-honey",
   "metadata": {},
   "outputs": [],
   "source": [
    "train_Y=train_Y.to_numpy()\n",
    "train=train.to_numpy() \n",
    "test=test.to_numpy()"
   ]
  },
  {
   "cell_type": "code",
   "execution_count": 9,
   "id": "endless-poetry",
   "metadata": {},
   "outputs": [],
   "source": [
    "# Label encoding:\n",
    "\n",
    "Y_train=np.zeros((train_Y.size,10))\n",
    "Y_train[np.arange(train_Y.size),train_Y] = 1 "
   ]
  },
  {
   "cell_type": "code",
   "execution_count": 10,
   "id": "olympic-paragraph",
   "metadata": {},
   "outputs": [
    {
     "name": "stdout",
     "output_type": "stream",
     "text": [
      "[0. 0. 0. 1. 0. 0. 0. 0. 0. 0.]\n"
     ]
    }
   ],
   "source": [
    "print(Y_train[7]) "
   ]
  },
  {
   "cell_type": "code",
   "execution_count": 11,
   "id": "selected-costume",
   "metadata": {},
   "outputs": [],
   "source": [
    "train=train.reshape(-1,28,28,1)\n",
    "test=test.reshape(-1,28,28,1)  "
   ]
  },
  {
   "cell_type": "code",
   "execution_count": 12,
   "id": "altered-attitude",
   "metadata": {},
   "outputs": [],
   "source": [
    "# Data splitting:\n",
    "\n",
    "train_X=train[4200:]\n",
    "train_Y=Y_train[4200:] \n",
    "valid_X=train[:4200]\n",
    "valid_Y=Y_train[:4200]  "
   ]
  },
  {
   "cell_type": "code",
   "execution_count": 13,
   "id": "intimate-castle",
   "metadata": {},
   "outputs": [
    {
     "name": "stdout",
     "output_type": "stream",
     "text": [
      "Train_X shape:  (37800, 28, 28, 1)\n",
      "Train_Y shape:  (37800, 10)\n",
      "valid_X shape:  (4200, 28, 28, 1)\n",
      "valid_Y shape:  (4200, 10)\n",
      "Test shape:  (28000, 28, 28, 1)\n"
     ]
    }
   ],
   "source": [
    "print(\"Train_X shape: \",train_X.shape)\n",
    "print(\"Train_Y shape: \",train_Y.shape)\n",
    "print(\"valid_X shape: \",valid_X.shape)\n",
    "print(\"valid_Y shape: \",valid_Y.shape)\n",
    "print(\"Test shape: \",test.shape)"
   ]
  },
  {
   "cell_type": "code",
   "execution_count": 14,
   "id": "baking-softball",
   "metadata": {},
   "outputs": [
    {
     "data": {
      "image/png": "[encoded data removed]",
      "text/plain": [
       "<Figure size 432x288 with 1 Axes>"
      ]
     },
     "metadata": {
      "needs_background": "light"
     },
     "output_type": "display_data"
    },
    {
     "name": "stdout",
     "output_type": "stream",
     "text": [
      "Digit is:  7\n"
     ]
    }
   ],
   "source": [
    "sample_image=train_X[0]\n",
    "plt.imshow(sample_image)\n",
    "plt.show()\n",
    "print(\"Digit is: \",np.argmax(train_Y[0]))  "
   ]
  },
  {
   "cell_type": "code",
   "execution_count": 15,
   "id": "unnecessary-forest",
   "metadata": {},
   "outputs": [],
   "source": [
    "def digit_recognizer(input_shape):\n",
    "    X_input=keras.layers.Input(input_shape)\n",
    "    X=keras.layers.Conv2D(32,kernel_size=(5,5),padding=\"Same\",activation=\"relu\",name=\"conv_1\")(X_input)\n",
    "    X=keras.layers.Conv2D(32,kernel_size=(5,5),padding=\"Same\",activation=\"relu\",name=\"conv_2\")(X)\n",
    "    X=keras.layers.MaxPooling2D(pool_size=(2,2),name=\"max_pool_1\")(X)\n",
    "    X=keras.layers.Dropout(0.20)(X)\n",
    "    X=keras.layers.Conv2D(64,kernel_size=(3,3),padding=\"Same\",activation=\"relu\",name=\"conv_3\")(X)\n",
    "    X=keras.layers.Conv2D(64,kernel_size=(3,3),padding=\"Same\",activation=\"relu\",name=\"conv_4\")(X)\n",
    "    X=keras.layers.MaxPooling2D(pool_size=(2,2),name=\"max_pool_2\")(X)\n",
    "    X=keras.layers.Dropout(0.20)(X)\n",
    "    X=keras.layers.Flatten()(X)\n",
    "    X=keras.layers.Dense(256,activation='relu',name=\"fc_1\")(X)\n",
    "    X=keras.layers.Dropout(0.20)(X)\n",
    "    X=keras.layers.Dense(128,activation='relu',name=\"fc_2\")(X)\n",
    "    X=keras.layers.Dense(10,activation=\"softmax\",name=\"output\")(X) \n",
    "    \n",
    "    model = keras.models.Model(inputs = X_input, outputs = X, name='Digit_recognizer')\n",
    "    \n",
    "    return model"
   ]
  },
  {
   "cell_type": "code",
   "execution_count": 16,
   "id": "necessary-genealogy",
   "metadata": {},
   "outputs": [
    {
     "name": "stdout",
     "output_type": "stream",
     "text": [
      "Model: \"Digit_recognizer\"\n",
      "_________________________________________________________________\n",
      "Layer (type)                 Output Shape              Param #   \n",
      "=================================================================\n",
      "input_1 (InputLayer)         [(None, 28, 28, 1)]       0         \n",
      "_________________________________________________________________\n",
      "conv_1 (Conv2D)              (None, 28, 28, 32)        832       \n",
      "_________________________________________________________________\n",
      "conv_2 (Conv2D)              (None, 28, 28, 32)        25632     \n",
      "_________________________________________________________________\n",
      "max_pool_1 (MaxPooling2D)    (None, 14, 14, 32)        0         \n",
      "_________________________________________________________________\n",
      "dropout (Dropout)            (None, 14, 14, 32)        0         \n",
      "_________________________________________________________________\n",
      "conv_3 (Conv2D)              (None, 14, 14, 64)        18496     \n",
      "_________________________________________________________________\n",
      "conv_4 (Conv2D)              (None, 14, 14, 64)        36928     \n",
      "_________________________________________________________________\n",
      "max_pool_2 (MaxPooling2D)    (None, 7, 7, 64)          0         \n",
      "_________________________________________________________________\n",
      "dropout_1 (Dropout)          (None, 7, 7, 64)          0         \n",
      "_________________________________________________________________\n",
      "flatten (Flatten)            (None, 3136)              0         \n",
      "_________________________________________________________________\n",
      "fc_1 (Dense)                 (None, 256)               803072    \n",
      "_________________________________________________________________\n",
      "dropout_2 (Dropout)          (None, 256)               0         \n",
      "_________________________________________________________________\n",
      "fc_2 (Dense)                 (None, 128)               32896     \n",
      "_________________________________________________________________\n",
      "output (Dense)               (None, 10)                1290      \n",
      "=================================================================\n",
      "Total params: 919,146\n",
      "Trainable params: 919,146\n",
      "Non-trainable params: 0\n",
      "_________________________________________________________________\n",
      "None\n"
     ]
    }
   ],
   "source": [
    "digit_recognizer=digit_recognizer(train_X.shape[1:]) \n",
    "print(digit_recognizer.summary())"
   ]
  },
  {
   "cell_type": "code",
   "execution_count": 17,
   "id": "alone-leave",
   "metadata": {},
   "outputs": [],
   "source": [
    "digit_recognizer.compile(loss=\"categorical_crossentropy\",optimizer=\"adam\",metrics=['accuracy']) "
   ]
  },
  {
   "cell_type": "code",
   "execution_count": 18,
   "id": "hungry-chapter",
   "metadata": {},
   "outputs": [
    {
     "name": "stdout",
     "output_type": "stream",
     "text": [
      "Train on 37800 samples, validate on 4200 samples\n",
      "Epoch 1/20\n",
      "37800/37800 [==============================] - 107s 3ms/sample - loss: 0.1819 - accuracy: 0.9412 - val_loss: 0.0654 - val_accuracy: 0.9786\n",
      "Epoch 2/20\n",
      "37800/37800 [==============================] - 108s 3ms/sample - loss: 0.0660 - accuracy: 0.9805 - val_loss: 0.0428 - val_accuracy: 0.9869\n",
      "Epoch 3/20\n",
      "37800/37800 [==============================] - 107s 3ms/sample - loss: 0.0486 - accuracy: 0.9853 - val_loss: 0.0395 - val_accuracy: 0.9876\n",
      "Epoch 4/20\n",
      "37800/37800 [==============================] - 105s 3ms/sample - loss: 0.0374 - accuracy: 0.9888 - val_loss: 0.0358 - val_accuracy: 0.9898\n",
      "Epoch 5/20\n",
      "37800/37800 [==============================] - 108s 3ms/sample - loss: 0.0356 - accuracy: 0.9891 - val_loss: 0.0464 - val_accuracy: 0.9867\n",
      "Epoch 6/20\n",
      "37800/37800 [==============================] - 107s 3ms/sample - loss: 0.0320 - accuracy: 0.9906 - val_loss: 0.0340 - val_accuracy: 0.9905\n",
      "Epoch 7/20\n",
      "37800/37800 [==============================] - 109s 3ms/sample - loss: 0.0272 - accuracy: 0.9923 - val_loss: 0.0376 - val_accuracy: 0.9876\n",
      "Epoch 8/20\n",
      "37800/37800 [==============================] - 106s 3ms/sample - loss: 0.0256 - accuracy: 0.9925 - val_loss: 0.0306 - val_accuracy: 0.9893\n",
      "Epoch 9/20\n",
      "37800/37800 [==============================] - 106s 3ms/sample - loss: 0.0242 - accuracy: 0.9930 - val_loss: 0.0399 - val_accuracy: 0.9907\n",
      "Epoch 10/20\n",
      "37800/37800 [==============================] - 107s 3ms/sample - loss: 0.0198 - accuracy: 0.9936 - val_loss: 0.0331 - val_accuracy: 0.9917\n",
      "Epoch 11/20\n",
      "37800/37800 [==============================] - 108s 3ms/sample - loss: 0.0219 - accuracy: 0.9940 - val_loss: 0.0346 - val_accuracy: 0.9902\n",
      "Epoch 12/20\n",
      "37800/37800 [==============================] - 108s 3ms/sample - loss: 0.0217 - accuracy: 0.9935 - val_loss: 0.0303 - val_accuracy: 0.9912\n",
      "Epoch 13/20\n",
      "37800/37800 [==============================] - 105s 3ms/sample - loss: 0.0156 - accuracy: 0.9955 - val_loss: 0.0335 - val_accuracy: 0.9907\n",
      "Epoch 14/20\n",
      "37800/37800 [==============================] - 102s 3ms/sample - loss: 0.0181 - accuracy: 0.9949 - val_loss: 0.0314 - val_accuracy: 0.9898\n",
      "Epoch 15/20\n",
      "37800/37800 [==============================] - 104s 3ms/sample - loss: 0.0157 - accuracy: 0.9956 - val_loss: 0.0327 - val_accuracy: 0.9914\n",
      "Epoch 16/20\n",
      "37800/37800 [==============================] - 105s 3ms/sample - loss: 0.0156 - accuracy: 0.9954 - val_loss: 0.0361 - val_accuracy: 0.9917\n",
      "Epoch 17/20\n",
      "37800/37800 [==============================] - 107s 3ms/sample - loss: 0.0167 - accuracy: 0.9953 - val_loss: 0.0391 - val_accuracy: 0.9898\n",
      "Epoch 18/20\n",
      "37800/37800 [==============================] - 106s 3ms/sample - loss: 0.0191 - accuracy: 0.9946 - val_loss: 0.0385 - val_accuracy: 0.9900\n",
      "Epoch 19/20\n",
      "37800/37800 [==============================] - 107s 3ms/sample - loss: 0.0139 - accuracy: 0.9962 - val_loss: 0.0385 - val_accuracy: 0.9917\n",
      "Epoch 20/20\n",
      "37800/37800 [==============================] - 108s 3ms/sample - loss: 0.0137 - accuracy: 0.9961 - val_loss: 0.0353 - val_accuracy: 0.9910\n"
     ]
    },
    {
     "data": {
      "text/plain": [
       "<tensorflow.python.keras.callbacks.History at 0x14f0d4caec8>"
      ]
     },
     "execution_count": 18,
     "metadata": {},
     "output_type": "execute_result"
    }
   ],
   "source": [
    "digit_recognizer.fit(train_X,train_Y,validation_data=(valid_X,valid_Y),epochs=20)"
   ]
  },
  {
   "cell_type": "code",
   "execution_count": 19,
   "id": "loved-guard",
   "metadata": {},
   "outputs": [],
   "source": [
    "test_Y=digit_recognizer.predict(test) "
   ]
  },
  {
   "cell_type": "code",
   "execution_count": 20,
   "id": "everyday-florence",
   "metadata": {},
   "outputs": [
    {
     "name": "stdout",
     "output_type": "stream",
     "text": [
      "<class 'numpy.ndarray'>\n"
     ]
    }
   ],
   "source": [
    "print(type(test_Y))"
   ]
  },
  {
   "cell_type": "code",
   "execution_count": 21,
   "id": "amended-oxygen",
   "metadata": {},
   "outputs": [],
   "source": [
    "test_Y=np.argmax(test_Y,axis=1) "
   ]
  },
  {
   "cell_type": "code",
   "execution_count": 22,
   "id": "linear-northern",
   "metadata": {},
   "outputs": [],
   "source": [
    "submission=pd.read_csv(\"sample_submission.csv\")\n",
    "submission['Label']=test_Y"
   ]
  },
  {
   "cell_type": "code",
   "execution_count": 24,
   "id": "egyptian-subscriber",
   "metadata": {},
   "outputs": [],
   "source": [
    "submission.to_csv(\"test_Y.csv\",index=False)"
   ]
  },
  {
   "cell_type": "code",
   "execution_count": 25,
   "id": "generous-visit",
   "metadata": {},
   "outputs": [],
   "source": [
    "# Accuracy on test set: 0.99100\n",
    "# Rank:  800"
   ]
  },
  {
   "cell_type": "code",
   "execution_count": null,
   "id": "statutory-vitamin",
   "metadata": {},
   "outputs": [],
   "source": []
  }
 ],
 "metadata": {
  "kernelspec": {
   "display_name": "Python 3",
   "language": "python",
   "name": "python3"
  },
  "language_info": {
   "codemirror_mode": {
    "name": "ipython",
    "version": 3
   },
   "file_extension": ".py",
   "mimetype": "text/x-python",
   "name": "python",
   "nbconvert_exporter": "python",
   "pygments_lexer": "ipython3",
   "version": "3.7.10"
  }
 },
 "nbformat": 4,
 "nbformat_minor": 5
}
